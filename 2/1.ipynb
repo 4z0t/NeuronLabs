{
 "cells": [
  {
   "cell_type": "code",
   "execution_count": 8,
   "metadata": {},
   "outputs": [],
   "source": [
    "import numpy as np\n",
    "\n",
    "\n",
    "def step_func(v, a=0):\n",
    "    @np.vectorize\n",
    "    def step_f(x):\n",
    "        return 0 if x <= a else 1\n",
    "    return step_f(v)"
   ]
  },
  {
   "cell_type": "code",
   "execution_count": 15,
   "metadata": {},
   "outputs": [
    {
     "name": "stdout",
     "output_type": "stream",
     "text": [
      "Введите веса\n",
      "Введите величину порога\n"
     ]
    }
   ],
   "source": [
    "print('Введите веса')\n",
    "w1 = float(input('Вес w1 = '))\n",
    "w2 = float(input('Вес w2 = '))\n",
    "print('Введите величину порога')\n",
    "theta = float(input('Порог = '))"
   ]
  },
  {
   "cell_type": "code",
   "execution_count": 22,
   "metadata": {},
   "outputs": [],
   "source": [
    "def McCulloch_Pitts_OR(w1, w2, theta):\n",
    "    x1 = [1, 1, 0, 0]\n",
    "    x2 = [1, 0, 1, 0]\n",
    "    z = np.array([1, 1, 1, 0])\n",
    "    con = 1\n",
    "\n",
    "    while con:\n",
    "        zin = np.array([x1[i] * w1 + x2[i] * w2 for i in range(4)])\n",
    "\n",
    "        y = step_func(zin, theta)\n",
    "\n",
    "        print('Значение на выходе нейрона')\n",
    "        print(y)\n",
    "\n",
    "        if np.array_equal(y, z):\n",
    "            con = 0\n",
    "        else:\n",
    "            print(\n",
    "                'Нейрон не обучен. Введите другие значения весовых коэффициентов и порога')\n",
    "            w1 = float(input('Вес w1 = '))\n",
    "            w2 = float(input('Вес w2 = '))\n",
    "            theta = float(input('Порог = '))\n",
    "\n",
    "    print('Нейрон МакКаллока-Питса для функции \"ИЛИ\" (англ. \"OR\")')\n",
    "    print('Веса нейрона')\n",
    "    print(w1)\n",
    "    print(w2)\n",
    "    print('Пороговое значение')\n",
    "    print(theta)"
   ]
  },
  {
   "cell_type": "code",
   "execution_count": 23,
   "metadata": {},
   "outputs": [
    {
     "name": "stdout",
     "output_type": "stream",
     "text": [
      "Значение на выходе нейрона\n",
      "[1 1 1 0]\n",
      "Нейрон МакКаллока-Питса для функции \"ИЛИ\" (англ. \"OR\")\n",
      "Веса нейрона\n",
      "1.0\n",
      "1.0\n",
      "Пороговое значение\n",
      "0.5\n"
     ]
    }
   ],
   "source": [
    "McCulloch_Pitts_OR(w1, w2, theta)"
   ]
  }
 ],
 "metadata": {
  "kernelspec": {
   "display_name": "Python 3",
   "language": "python",
   "name": "python3"
  },
  "language_info": {
   "codemirror_mode": {
    "name": "ipython",
    "version": 3
   },
   "file_extension": ".py",
   "mimetype": "text/x-python",
   "name": "python",
   "nbconvert_exporter": "python",
   "pygments_lexer": "ipython3",
   "version": "3.9.6"
  }
 },
 "nbformat": 4,
 "nbformat_minor": 2
}
