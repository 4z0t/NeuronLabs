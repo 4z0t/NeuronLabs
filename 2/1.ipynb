{
 "cells": [
  {
   "cell_type": "code",
   "execution_count": 1,
   "metadata": {},
   "outputs": [],
   "source": [
    "import numpy as np\n",
    "\n",
    "\n",
    "def step_func(v, a=0):\n",
    "    @np.vectorize\n",
    "    def step_f(x):\n",
    "        return 0 if x <= a else 1\n",
    "    return step_f(v)"
   ]
  },
  {
   "cell_type": "code",
   "execution_count": 15,
   "metadata": {},
   "outputs": [
    {
     "name": "stdout",
     "output_type": "stream",
     "text": [
      "Введите веса\n",
      "Введите величину порога\n"
     ]
    }
   ],
   "source": []
  },
  {
   "cell_type": "code",
   "execution_count": 2,
   "metadata": {},
   "outputs": [],
   "source": [
    "def McCulloch_Pitts_OR():\n",
    "    print('Введите веса')\n",
    "    w1 = float(input('Вес w1 = '))\n",
    "    w2 = float(input('Вес w2 = '))\n",
    "    print('Введите величину порога')\n",
    "    theta = float(input('Порог = '))\n",
    "    x1 = np.array([1, 1, 0, 0])\n",
    "    x2 = np.array([1, 0, 1, 0])\n",
    "    z = np.array([1, 1, 1, 0])\n",
    "\n",
    "    while True:\n",
    "        zin = x1*w1 + x2*w2\n",
    "\n",
    "        y = step_func(zin, theta)\n",
    "\n",
    "        print('Значение на выходе нейрона')\n",
    "        print(y)\n",
    "\n",
    "        if np.array_equal(y, z):\n",
    "            break\n",
    "        else:\n",
    "            print(\n",
    "                'Нейрон не обучен. Введите другие значения весовых коэффициентов и порога')\n",
    "            w1 = float(input('Вес w1 = '))\n",
    "            w2 = float(input('Вес w2 = '))\n",
    "            theta = float(input('Порог = '))\n",
    "\n",
    "    print('Нейрон МакКаллока-Питса для функции \"ИЛИ\" (англ. \"OR\")')\n",
    "    print('Веса нейрона')\n",
    "    print(w1)\n",
    "    print(w2)\n",
    "    print('Пороговое значение')\n",
    "    print(theta)"
   ]
  },
  {
   "cell_type": "code",
   "execution_count": 3,
   "metadata": {},
   "outputs": [
    {
     "name": "stdout",
     "output_type": "stream",
     "text": [
      "Введите веса\n",
      "Введите величину порога\n",
      "Значение на выходе нейрона\n",
      "[1 1 1 0]\n",
      "Нейрон МакКаллока-Питса для функции \"ИЛИ\" (англ. \"OR\")\n",
      "Веса нейрона\n",
      "1.0\n",
      "1.0\n",
      "Пороговое значение\n",
      "0.5\n"
     ]
    }
   ],
   "source": [
    "McCulloch_Pitts_OR() # 1 1 0.5"
   ]
  },
  {
   "cell_type": "code",
   "execution_count": 4,
   "metadata": {},
   "outputs": [],
   "source": [
    "def McCulloch_Pitts_AND():\n",
    "    print('Введите веса')\n",
    "    w1 = float(input('Вес w1 = '))\n",
    "    w2 = float(input('Вес w2 = '))\n",
    "    print('Введите величину порога')\n",
    "    theta = float(input('Порог = '))\n",
    "    x1=np.array([1, 1, -1, -1])\n",
    "    x2=np.array([1, -1, 1, -1])\n",
    "    z=np.array([1, 0, 0, 0])\n",
    "\n",
    "    while True:\n",
    "        zin = x1*w1 + x2*w2\n",
    "\n",
    "        y = step_func(zin, theta)\n",
    "\n",
    "        print('Значение на выходе нейрона')\n",
    "        print(y)\n",
    "\n",
    "        if np.array_equal(y, z):\n",
    "            break\n",
    "        else:\n",
    "            print(\n",
    "                'Нейрон не обучен. Введите другие значения весовых коэффициентов и порога')\n",
    "            w1 = float(input('Вес w1 = '))\n",
    "            w2 = float(input('Вес w2 = '))\n",
    "            theta = float(input('Порог = '))\n",
    "\n",
    "    print('Нейрон МакКаллока-Питса для функции \"И\" (англ. \"AND\")')\n",
    "    print('Веса нейрона')\n",
    "    print(w1)\n",
    "    print(w2)\n",
    "    print('Пороговое значение')\n",
    "    print(theta)"
   ]
  },
  {
   "cell_type": "code",
   "execution_count": 5,
   "metadata": {},
   "outputs": [
    {
     "name": "stdout",
     "output_type": "stream",
     "text": [
      "Введите веса\n",
      "Введите величину порога\n",
      "Значение на выходе нейрона\n",
      "[0 0 0 0]\n",
      "Нейрон не обучен. Введите другие значения весовых коэффициентов и порога\n",
      "Значение на выходе нейрона\n",
      "[1 0 0 0]\n",
      "Нейрон МакКаллока-Питса для функции \"И\" (англ. \"AND\")\n",
      "Веса нейрона\n",
      "2.0\n",
      "2.0\n",
      "Пороговое значение\n",
      "1.0\n"
     ]
    }
   ],
   "source": [
    "McCulloch_Pitts_AND()"
   ]
  },
  {
   "cell_type": "code",
   "execution_count": 32,
   "metadata": {},
   "outputs": [],
   "source": [
    "def check_weights(x1=np.array([1, 1, 0, 0]),\n",
    "                  x2=np.array([1, 0, 1, 0]),\n",
    "                  y=np.array([0, 0, 0, 0])):\n",
    "\n",
    "    def wrapper(w1, w2, theta):\n",
    "        return np.array_equal(step_func(x1*w1 + x2*w2, theta), y)\n",
    "\n",
    "    return wrapper"
   ]
  },
  {
   "cell_type": "code",
   "execution_count": 34,
   "metadata": {},
   "outputs": [
    {
     "name": "stdout",
     "output_type": "stream",
     "text": [
      "True\n",
      "True\n"
     ]
    }
   ],
   "source": [
    "OR_f = check_weights(y=np.array([1, 1, 1, 0]))\n",
    "print(OR_f(1, 1, 0.5))\n",
    "AND_f = check_weights(x1=np.array([1, 1, -1, -1]),\n",
    "                      x2=np.array([1, -1, 1, -1]),\n",
    "                      y=np.array([1, 0, 0, 0]))\n",
    "print(AND_f(2, 2, 1))"
   ]
  },
  {
   "cell_type": "code",
   "execution_count": 7,
   "metadata": {},
   "outputs": [],
   "source": [
    "def McCulloch_Pitts_XOR():\n",
    "    # Задание весов и значения порога\n",
    "    print('Введите веса')\n",
    "    w_11 = float(input('Вес w_11 ='))\n",
    "    w_12 = float(input('Вес w_12 ='))\n",
    "    w_21 = float(input('Вес w_21 ='))\n",
    "    w_22 = float(input('Вес w_22 ='))\n",
    "    w11 = float(input('Вес w11 ='))\n",
    "    w12 = float(input('Вес w12 ='))\n",
    "\n",
    "    print('Введите величину порога')\n",
    "    theta = float(input('Порог ='))\n",
    "    x1 = np.array([1, 1, 0, 0])\n",
    "    x2 = np.array([1, 0, 1, 0])\n",
    "    z = np.array([0, 1, 1, 0])\n",
    "    while True:\n",
    "        zin1 = x1*w_11+x2*w_21\n",
    "        zin2 = x1*w_12+x2*w_22\n",
    "        y1 = step_func(zin1, theta)\n",
    "        y2 = step_func(zin2, theta)\n",
    "\n",
    "        zin = y1*w11 + y2*w12\n",
    "\n",
    "        y = step_func(zin, theta)\n",
    "        print('Значение на выходе нейрона')\n",
    "        print(y)\n",
    "        if all(y == z):\n",
    "            break\n",
    "        else:\n",
    "            print(\n",
    "                'Нейрон не обучен. Введите другие значения весовых коэффициентов и порога')\n",
    "            w_11 = float(input('Вес w_11 ='))\n",
    "            w_12 = float(input('Вес w_12 ='))\n",
    "            w_21 = float(input('Вес w_21 ='))\n",
    "            w_22 = float(input('Вес w_22 ='))\n",
    "            w11 = float(input('Вес w11 ='))\n",
    "            w12 = float(input('Вес w12 ='))\n",
    "            theta = float(input('Порог ='))\n",
    "    print('Нейрон МакКаллока-Питса для функции \"Исключащее-ИЛИ\" (англ. \"XOR\")')\n",
    "    print('Веса первого слоя')\n",
    "    print([w_11,\n",
    "           w_12,\n",
    "           w_21,\n",
    "           w_22])\n",
    "    print('Веса второго слоя')\n",
    "    print([w11,\n",
    "           w12])\n",
    "    print('Пороговое значение')\n",
    "    print(theta)"
   ]
  },
  {
   "cell_type": "code",
   "execution_count": 9,
   "metadata": {},
   "outputs": [
    {
     "name": "stdout",
     "output_type": "stream",
     "text": [
      "Введите веса\n",
      "Введите величину порога\n",
      "Значение на выходе нейрона\n",
      "[1 1 1 0]\n",
      "Нейрон не обучен. Введите другие значения весовых коэффициентов и порога\n",
      "Значение на выходе нейрона\n",
      "[0 1 1 0]\n",
      "Нейрон МакКаллока-Питса для функции \"Исключащее-ИЛИ\" (англ. \"XOR\")\n",
      "Веса первого слоя\n",
      "[2.0, -1.5, -1.5, 2.0]\n",
      "Веса второго слоя\n",
      "[2.0, 2.0]\n",
      "Пороговое значение\n",
      "1.0\n"
     ]
    }
   ],
   "source": [
    "McCulloch_Pitts_XOR()"
   ]
  }
 ],
 "metadata": {
  "kernelspec": {
   "display_name": "Python 3",
   "language": "python",
   "name": "python3"
  },
  "language_info": {
   "codemirror_mode": {
    "name": "ipython",
    "version": 3
   },
   "file_extension": ".py",
   "mimetype": "text/x-python",
   "name": "python",
   "nbconvert_exporter": "python",
   "pygments_lexer": "ipython3",
   "version": "3.9.6"
  }
 },
 "nbformat": 4,
 "nbformat_minor": 2
}
